{
 "cells": [
  {
   "cell_type": "code",
   "execution_count": 1,
   "id": "be1ad1dc",
   "metadata": {},
   "outputs": [
    {
     "name": "stdout",
     "output_type": "stream",
     "text": [
      "Enter a number to check if it's prime: 2\n",
      "2 is a prime number.\n"
     ]
    }
   ],
   "source": [
    "#1: Prime Numbers\n",
    "def is_prime(number):\n",
    "    \"\"\"Check if a given number is a prime number.\"\"\"\n",
    "    if number <= 1:\n",
    "        return False\n",
    "    for i in range(2, int(number ** 0.5) + 1):\n",
    "        if number % i == 0:\n",
    "            return False\n",
    "    return True\n",
    "\n",
    "# Example\n",
    "num = int(input(\"Enter a number to check if it's prime: \"))\n",
    "if is_prime(num):\n",
    "    print(f\"{num} is a prime number.\")\n",
    "else:\n",
    "    print(f\"{num} is not a prime number.\")\n"
   ]
  },
  {
   "cell_type": "code",
   "execution_count": 3,
   "id": "b6251e8c",
   "metadata": {},
   "outputs": [
    {
     "name": "stdout",
     "output_type": "stream",
     "text": [
      "Generated numbers are 2 and 8.\n",
      "Enter the product of these numbers: 16\n",
      "Correct! Well done.\n"
     ]
    }
   ],
   "source": [
    "#Product of Random Numbers\n",
    "import random\n",
    "\n",
    "def check_product():\n",
    "    \"\"\"Generate two random numbers, ask the user for their product, and verify the result.\"\"\"\n",
    "    num1 = random.randint(1, 10)\n",
    "    num2 = random.randint(1, 10)\n",
    "    product = num1 * num2\n",
    "\n",
    "    print(f\"Generated numbers are {num1} and {num2}.\")\n",
    "    user_answer = int(input(\"Enter the product of these numbers: \"))\n",
    "\n",
    "    if user_answer == product:\n",
    "        print(\"Correct! Well done.\")\n",
    "    else:\n",
    "        print(f\"Incorrect. The correct product is {product}.\")\n",
    "\n",
    "# Example\n",
    "check_product()\n"
   ]
  },
  {
   "cell_type": "code",
   "execution_count": 4,
   "id": "042c53bd",
   "metadata": {},
   "outputs": [
    {
     "name": "stdout",
     "output_type": "stream",
     "text": [
      "The square of 101 is 10201\n",
      "The square of 103 is 10609\n",
      "The square of 105 is 11025\n",
      "The square of 107 is 11449\n",
      "The square of 109 is 11881\n",
      "The square of 111 is 12321\n",
      "The square of 113 is 12769\n",
      "The square of 115 is 13225\n",
      "The square of 117 is 13689\n",
      "The square of 119 is 14161\n",
      "The square of 121 is 14641\n",
      "The square of 123 is 15129\n",
      "The square of 125 is 15625\n",
      "The square of 127 is 16129\n",
      "The square of 129 is 16641\n",
      "The square of 131 is 17161\n",
      "The square of 133 is 17689\n",
      "The square of 135 is 18225\n",
      "The square of 137 is 18769\n",
      "The square of 139 is 19321\n",
      "The square of 141 is 19881\n",
      "The square of 143 is 20449\n",
      "The square of 145 is 21025\n",
      "The square of 147 is 21609\n",
      "The square of 149 is 22201\n",
      "The square of 151 is 22801\n",
      "The square of 153 is 23409\n",
      "The square of 155 is 24025\n",
      "The square of 157 is 24649\n",
      "The square of 159 is 25281\n",
      "The square of 161 is 25921\n",
      "The square of 163 is 26569\n",
      "The square of 165 is 27225\n",
      "The square of 167 is 27889\n",
      "The square of 169 is 28561\n",
      "The square of 171 is 29241\n",
      "The square of 173 is 29929\n",
      "The square of 175 is 30625\n",
      "The square of 177 is 31329\n",
      "The square of 179 is 32041\n",
      "The square of 181 is 32761\n",
      "The square of 183 is 33489\n",
      "The square of 185 is 34225\n",
      "The square of 187 is 34969\n",
      "The square of 189 is 35721\n",
      "The square of 191 is 36481\n",
      "The square of 193 is 37249\n",
      "The square of 195 is 38025\n",
      "The square of 197 is 38809\n",
      "The square of 199 is 39601\n"
     ]
    }
   ],
   "source": [
    "#3: Squares of Even/Odd Numbers\n",
    "def squares_of_numbers(choice='even'):\n",
    "    \"\"\"Print the squares of all even or odd numbers within the range of 100 to 200.\"\"\"\n",
    "    if choice == 'even':\n",
    "        numbers = range(100, 201)\n",
    "        for number in numbers:\n",
    "            if number % 2 == 0:\n",
    "                print(f\"The square of {number} is {number ** 2}\")\n",
    "    elif choice == 'odd':\n",
    "        numbers = range(100, 201)\n",
    "        for number in numbers:\n",
    "            if number % 2 != 0:\n",
    "                print(f\"The square of {number} is {number ** 2}\")\n",
    "    else:\n",
    "        print(\"Invalid choice. Please select 'even' or 'odd'.\")\n",
    "\n",
    "# Example\n",
    "squares_of_numbers('odd')  # Change 'odd' to 'even' to print squares of even numbers\n"
   ]
  },
  {
   "cell_type": "code",
   "execution_count": 5,
   "id": "50c02c02",
   "metadata": {},
   "outputs": [
    {
     "name": "stdout",
     "output_type": "stream",
     "text": [
      "'this': 2\n",
      "'is': 1\n",
      "'a': 1\n",
      "'sample': 1\n",
      "'text': 2\n",
      "'will': 1\n",
      "'be': 1\n",
      "'used': 1\n",
      "'to': 1\n",
      "'demonstrate': 1\n",
      "'the': 1\n",
      "'word': 1\n",
      "'counter': 1\n"
     ]
    }
   ],
   "source": [
    "#4: Word counter\n",
    "def word_counter(text):\n",
    "    \"\"\"Count the number of occurrences of each word in the given text.\"\"\"\n",
    "    words = text.split()\n",
    "    word_count = {}\n",
    "    \n",
    "    for word in words:\n",
    "        word = word.strip('.,!?').lower()  # Remove punctuation and convert to lower case\n",
    "        if word in word_count:\n",
    "            word_count[word] += 1\n",
    "        else:\n",
    "            word_count[word] = 1\n",
    "    \n",
    "    return word_count\n",
    "\n",
    "# Example \n",
    "input_text = \"This is a sample text. This text will be used to demonstrate the word counter.\"\n",
    "word_counts = word_counter(input_text)\n",
    "\n",
    "for word, count in word_counts.items():\n",
    "    print(f\"'{word}': {count}\")\n"
   ]
  },
  {
   "cell_type": "code",
   "execution_count": 6,
   "id": "a0413d06",
   "metadata": {},
   "outputs": [
    {
     "name": "stdout",
     "output_type": "stream",
     "text": [
      "Enter a string to check if it's a palindrome: 2442\n",
      "True\n"
     ]
    }
   ],
   "source": [
    " #5: Check for Palindrome\n",
    "import re\n",
    "\n",
    "def is_palindrome(s):\n",
    "    \"\"\"Check if the given string is a palindrome, ignoring spaces, punctuation, and capitalization.\"\"\"\n",
    "    # Remove non-alphanumeric characters and convert to lower case\n",
    "    cleaned_string = re.sub(r'[^a-zA-Z0-9]', '', s).lower()\n",
    "    return cleaned_string == cleaned_string[::-1]\n",
    "\n",
    "# Example\n",
    "input_string = input(\"Enter a string to check if it's a palindrome: \")\n",
    "if is_palindrome(input_string):\n",
    "    print(\"True\")\n",
    "else:\n",
    "    print(\"False\")\n"
   ]
  },
  {
   "cell_type": "code",
   "execution_count": null,
   "id": "de5378b6",
   "metadata": {},
   "outputs": [],
   "source": []
  }
 ],
 "metadata": {
  "kernelspec": {
   "display_name": "Python 3 (ipykernel)",
   "language": "python",
   "name": "python3"
  },
  "language_info": {
   "codemirror_mode": {
    "name": "ipython",
    "version": 3
   },
   "file_extension": ".py",
   "mimetype": "text/x-python",
   "name": "python",
   "nbconvert_exporter": "python",
   "pygments_lexer": "ipython3",
   "version": "3.11.5"
  }
 },
 "nbformat": 4,
 "nbformat_minor": 5
}
